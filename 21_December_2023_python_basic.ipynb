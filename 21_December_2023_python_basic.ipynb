{
 "cells": [
  {
   "cell_type": "code",
   "execution_count": 1,
   "id": "79519fd5-8c72-458d-a17c-38fdb53e88c0",
   "metadata": {},
   "outputs": [
    {
     "name": "stdout",
     "output_type": "stream",
     "text": [
      "202 101\n"
     ]
    }
   ],
   "source": [
    "#1swap two values using 2 varibales\n",
    "a = 101\n",
    "b = 202 \n",
    "a,b = b,a\n",
    "print(a,b)"
   ]
  },
  {
   "cell_type": "code",
   "execution_count": 2,
   "id": "842b364a-24df-4dbf-9cca-7f683c509306",
   "metadata": {},
   "outputs": [
    {
     "name": "stdout",
     "output_type": "stream",
     "text": [
      "Welcome to Program to find the area of rectangle:\n"
     ]
    },
    {
     "name": "stdin",
     "output_type": "stream",
     "text": [
      "Enter the lenght:  67\n",
      "Enter the width:  90\n"
     ]
    },
    {
     "name": "stdout",
     "output_type": "stream",
     "text": [
      "Area of rectangel is 6030.0 \n"
     ]
    }
   ],
   "source": [
    "#2finding the area of rectange take input from the user\n",
    "print(\"Welcome to Program to find the area of rectangle:\")\n",
    "lenght = float(input(\"Enter the lenght: \"))\n",
    "width = float(input(\"Enter the width: \"))\n",
    "Area_of_rectangle = lenght*width\n",
    "print(f\"Area of rectangel is {Area_of_rectangle} \")"
   ]
  },
  {
   "cell_type": "code",
   "execution_count": 3,
   "id": "370d84d7-bcef-4395-816c-208f61561a17",
   "metadata": {},
   "outputs": [
    {
     "name": "stdin",
     "output_type": "stream",
     "text": [
      "Enter the Fahrenheit value to conver the calcius:  67\n"
     ]
    },
    {
     "name": "stdout",
     "output_type": "stream",
     "text": [
      "your will get this answer Hahreniet: 52.5'f '\n"
     ]
    }
   ],
   "source": [
    "#3 convert the tempreture calcius to fahreneit\n",
    "f = float(input(\"Enter the Fahrenheit value to conver the calcius: \"))\n",
    "c = 3/2*(f-32) #this is a formula to find out the fahreneit \n",
    "print(f\"your will get this answer Hahreniet: {c}'f '\")"
   ]
  },
  {
   "cell_type": "code",
   "execution_count": 4,
   "id": "d736f9f6-c15f-4304-933f-535405a4ab43",
   "metadata": {},
   "outputs": [
    {
     "name": "stdin",
     "output_type": "stream",
     "text": [
      "Enter the strign to calculate the length hello PW\n"
     ]
    },
    {
     "name": "stdout",
     "output_type": "stream",
     "text": [
      "8\n"
     ]
    }
   ],
   "source": [
    "#Write a Python program that takes a string as input and prints the length of the string.\n",
    "stri = input(\"Enter the strign to calculate the length\")\n",
    "lenght = len(stri) #len is a pre define funtion in python to find out the lenght. \n",
    "print(lenght)\n"
   ]
  },
  {
   "cell_type": "code",
   "execution_count": 5,
   "id": "6ee5d389-ace1-48cb-8489-ccc7618284e9",
   "metadata": {},
   "outputs": [
    {
     "name": "stdin",
     "output_type": "stream",
     "text": [
      "Enter sentense to find the vowel in your sentence:  hey PW thanks to you for upgrade my skills\n"
     ]
    },
    {
     "name": "stdout",
     "output_type": "stream",
     "text": [
      "10\n"
     ]
    }
   ],
   "source": [
    "#2. Create a program that takes a sentence from the user and counts the number of vowels (a, e, i, o, u) in the string.\n",
    "inpt = input(\"Enter sentense to find the vowel in your sentence: \")\n",
    "vowel = [\"A\",\"a\",\"e\",\"E\",\"I\",\"i\",\"O\",\"o\",\"U\",\"u\"]\n",
    "ans = []\n",
    "for i in vowel: # get the chareckter from the vowel form the volwel \n",
    "    for j in range(len(inpt)): #this line use to start the loop 0 from lenth of input from the user \n",
    "        if i ==inpt[j]: #here i compaire the i vlaue with the index of input if it is equal then it go into the second line and append the vlaue in ans \n",
    "            ans.append(i)\n",
    "print(len(ans)) #here i am printing the ans list in which have lenght "
   ]
  },
  {
   "cell_type": "code",
   "execution_count": 8,
   "id": "857862a4-949c-4652-a964-79426eb365d2",
   "metadata": {},
   "outputs": [
    {
     "name": "stdin",
     "output_type": "stream",
     "text": [
      "Enter the string you will get revese of that string  hello\n"
     ]
    },
    {
     "name": "stdout",
     "output_type": "stream",
     "text": [
      "olleh\n"
     ]
    }
   ],
   "source": [
    "# 3. Given a string, reverse the order of characters using string slicing and print he reversed string.\n",
    "inp_string = input(\"Enter the string you will get revese of that string \")\n",
    "print(inp_string[::-1])"
   ]
  },
  {
   "cell_type": "code",
   "execution_count": 6,
   "id": "43d3a2be-9e66-46f2-839c-000440ceb6be",
   "metadata": {},
   "outputs": [
    {
     "name": "stdin",
     "output_type": "stream",
     "text": [
      "Enter the string to check weather its is palindrom or note hello\n"
     ]
    },
    {
     "name": "stdout",
     "output_type": "stream",
     "text": [
      "Given string is not palindrom \n"
     ]
    }
   ],
   "source": [
    "# . Write a program that takes a string as input and checks if it is a palindrome\n",
    "# (reads the same forwards and backwards)\n",
    "inp_string = input(\"Enter the string to check weather its is palindrom or note\")\n",
    "revese_string = inp_string[::-1]\n",
    "if inp_string == revese_string:\n",
    "    print(\"Given string is palindrom \")\n",
    "else:\n",
    "    print(\"Given string is not palindrom \")"
   ]
  },
  {
   "cell_type": "code",
   "execution_count": 7,
   "id": "53075783-610a-4ca2-bdc2-d2f8c6d01655",
   "metadata": {},
   "outputs": [
    {
     "name": "stdin",
     "output_type": "stream",
     "text": [
      "Write anything which you want I will Erase the gap or space betweent the world :  hello pw friends \n"
     ]
    },
    {
     "name": "stdout",
     "output_type": "stream",
     "text": [
      "hellopwfriends\n"
     ]
    }
   ],
   "source": [
    "# Create a program that takes a string as input and removes all the spaces from it. Print the modified string without spaces.\n",
    "inpt_string = input(\"Write anything which you want I will Erase the gap or space betweent the world : \")\n",
    "print(inpt_string.replace(\" \",\"\"))"
   ]
  },
  {
   "cell_type": "code",
   "execution_count": null,
   "id": "e9414241-ef9b-4231-b3ec-b2085021cd52",
   "metadata": {},
   "outputs": [],
   "source": []
  }
 ],
 "metadata": {
  "kernelspec": {
   "display_name": "Python 3 (ipykernel)",
   "language": "python",
   "name": "python3"
  },
  "language_info": {
   "codemirror_mode": {
    "name": "ipython",
    "version": 3
   },
   "file_extension": ".py",
   "mimetype": "text/x-python",
   "name": "python",
   "nbconvert_exporter": "python",
   "pygments_lexer": "ipython3",
   "version": "3.10.8"
  },
  "widgets": {
   "application/vnd.jupyter.widget-state+json": {
    "state": {},
    "version_major": 2,
    "version_minor": 0
   }
  }
 },
 "nbformat": 4,
 "nbformat_minor": 5
}
